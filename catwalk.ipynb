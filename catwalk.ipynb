{
 "cells": [
  {
   "cell_type": "code",
   "execution_count": 89,
   "metadata": {},
   "outputs": [],
   "source": [
    "import pandas as pd\n",
    "import numpy as np\n",
    "import random\n",
    "from sklearn.ensemble import RandomForestClassifier, GradientBoostingClassifier\n",
    "from sklearn.model_selection import train_test_split, GridSearchCV\n",
    "from sklearn.pipeline import make_pipeline\n",
    "from sklearn.preprocessing import OneHotEncoder, OrdinalEncoder\n",
    "from xgboost import XGBClassifier\n"
   ]
  },
  {
   "cell_type": "code",
   "execution_count": null,
   "metadata": {},
   "outputs": [],
   "source": [
    "#function to solve the math-expression problem (optional)\n",
    "\n",
    "def average_damage(dice_notation):\n",
    "    \n",
    "    parts = dice_notation.split('d')\n",
    "    rolls = int(parts[0]) if parts[0] else 1\n",
    "    sides_modifier = parts[1].split('+')\n",
    "\n",
    "    sides = int(sides_modifier[0])\n",
    "    modifier = int(sides_modifier[1]) if len(sides_modifier) > 1 else 0\n",
    "\n",
    "    total_damage = 0\n",
    "    num_simulations = 333  \n",
    "\n",
    "    for _ in range(num_simulations):\n",
    "        damage = sum(random.randint(1, sides) for _ in range(rolls))\n",
    "        total_damage += damage\n",
    "\n",
    "    average = (total_damage / num_simulations) + modifier\n",
    "    return average"
   ]
  },
  {
   "cell_type": "code",
   "execution_count": null,
   "metadata": {},
   "outputs": [],
   "source": [
    "# dice = '6d6+2'\n",
    "# avg = average_damage(dice)\n",
    "# print(f'Average damage for {dice} is {avg}')\n"
   ]
  },
  {
   "cell_type": "code",
   "execution_count": 4,
   "metadata": {},
   "outputs": [],
   "source": [
    "def wrangler(df):\n",
    "\n",
    "    df['Rarity'] = df['Rarity'].str.replace('Rank ', '').astype(float) # take out the word 'Rank', the whitespace, and turn into integers\n",
    "    df = df.drop(axis=1, columns=['Timestamp', 'Unnamed: 0', 'Damage', 'Name', 'Type']) # drop the Timestamp, Unnamed, Name, Type, and Damage columns\n",
    "    # df['Damage'] = df['Damage'].apply(average_damage) # apply the average_damage function to the Damage column (optional)\n",
    "\n",
    "    return df"
   ]
  },
  {
   "cell_type": "code",
   "execution_count": 5,
   "metadata": {},
   "outputs": [
    {
     "data": {
      "text/html": [
       "<div>\n",
       "<style scoped>\n",
       "    .dataframe tbody tr th:only-of-type {\n",
       "        vertical-align: middle;\n",
       "    }\n",
       "\n",
       "    .dataframe tbody tr th {\n",
       "        vertical-align: top;\n",
       "    }\n",
       "\n",
       "    .dataframe thead th {\n",
       "        text-align: right;\n",
       "    }\n",
       "</style>\n",
       "<table border=\"1\" class=\"dataframe\">\n",
       "  <thead>\n",
       "    <tr style=\"text-align: right;\">\n",
       "      <th></th>\n",
       "      <th>Level</th>\n",
       "      <th>Rarity</th>\n",
       "      <th>Health</th>\n",
       "      <th>Energy</th>\n",
       "      <th>Sanity</th>\n",
       "    </tr>\n",
       "  </thead>\n",
       "  <tbody>\n",
       "    <tr>\n",
       "      <th>0</th>\n",
       "      <td>6</td>\n",
       "      <td>2.0</td>\n",
       "      <td>36.69</td>\n",
       "      <td>37.55</td>\n",
       "      <td>35.67</td>\n",
       "    </tr>\n",
       "    <tr>\n",
       "      <th>1</th>\n",
       "      <td>3</td>\n",
       "      <td>1.0</td>\n",
       "      <td>11.37</td>\n",
       "      <td>10.09</td>\n",
       "      <td>11.48</td>\n",
       "    </tr>\n",
       "    <tr>\n",
       "      <th>2</th>\n",
       "      <td>2</td>\n",
       "      <td>2.0</td>\n",
       "      <td>14.79</td>\n",
       "      <td>12.92</td>\n",
       "      <td>11.12</td>\n",
       "    </tr>\n",
       "    <tr>\n",
       "      <th>3</th>\n",
       "      <td>7</td>\n",
       "      <td>1.0</td>\n",
       "      <td>26.34</td>\n",
       "      <td>28.46</td>\n",
       "      <td>27.39</td>\n",
       "    </tr>\n",
       "    <tr>\n",
       "      <th>4</th>\n",
       "      <td>4</td>\n",
       "      <td>4.0</td>\n",
       "      <td>36.96</td>\n",
       "      <td>44.71</td>\n",
       "      <td>40.04</td>\n",
       "    </tr>\n",
       "    <tr>\n",
       "      <th>...</th>\n",
       "      <td>...</td>\n",
       "      <td>...</td>\n",
       "      <td>...</td>\n",
       "      <td>...</td>\n",
       "      <td>...</td>\n",
       "    </tr>\n",
       "    <tr>\n",
       "      <th>3995</th>\n",
       "      <td>14</td>\n",
       "      <td>0.0</td>\n",
       "      <td>28.06</td>\n",
       "      <td>28.43</td>\n",
       "      <td>28.31</td>\n",
       "    </tr>\n",
       "    <tr>\n",
       "      <th>3996</th>\n",
       "      <td>11</td>\n",
       "      <td>0.0</td>\n",
       "      <td>21.14</td>\n",
       "      <td>21.42</td>\n",
       "      <td>21.57</td>\n",
       "    </tr>\n",
       "    <tr>\n",
       "      <th>3997</th>\n",
       "      <td>8</td>\n",
       "      <td>0.0</td>\n",
       "      <td>15.58</td>\n",
       "      <td>15.81</td>\n",
       "      <td>16.74</td>\n",
       "    </tr>\n",
       "    <tr>\n",
       "      <th>3998</th>\n",
       "      <td>16</td>\n",
       "      <td>1.0</td>\n",
       "      <td>62.97</td>\n",
       "      <td>64.46</td>\n",
       "      <td>62.49</td>\n",
       "    </tr>\n",
       "    <tr>\n",
       "      <th>3999</th>\n",
       "      <td>9</td>\n",
       "      <td>1.0</td>\n",
       "      <td>34.29</td>\n",
       "      <td>35.12</td>\n",
       "      <td>35.54</td>\n",
       "    </tr>\n",
       "  </tbody>\n",
       "</table>\n",
       "<p>4000 rows × 5 columns</p>\n",
       "</div>"
      ],
      "text/plain": [
       "      Level  Rarity  Health  Energy  Sanity\n",
       "0         6     2.0   36.69   37.55   35.67\n",
       "1         3     1.0   11.37   10.09   11.48\n",
       "2         2     2.0   14.79   12.92   11.12\n",
       "3         7     1.0   26.34   28.46   27.39\n",
       "4         4     4.0   36.96   44.71   40.04\n",
       "...     ...     ...     ...     ...     ...\n",
       "3995     14     0.0   28.06   28.43   28.31\n",
       "3996     11     0.0   21.14   21.42   21.57\n",
       "3997      8     0.0   15.58   15.81   16.74\n",
       "3998     16     1.0   62.97   64.46   62.49\n",
       "3999      9     1.0   34.29   35.12   35.54\n",
       "\n",
       "[4000 rows x 5 columns]"
      ]
     },
     "execution_count": 5,
     "metadata": {},
     "output_type": "execute_result"
    }
   ],
   "source": [
    "data = pd.read_csv('C:/users/fradi/onedrive/desktop/bandersnatch.csv')\n",
    "df = wrangler(data)\n",
    "\n",
    "df"
   ]
  },
  {
   "cell_type": "code",
   "execution_count": 6,
   "metadata": {},
   "outputs": [],
   "source": [
    "#SPLIT\n",
    "\n",
    "target = 'Rarity'\n",
    "X = df.drop(columns = target, axis = 1)\n",
    "y = df[target]\n",
    "\n",
    "X_train, X_test, y_train, y_test = train_test_split(X, y, test_size = 0.2, random_state = 42)"
   ]
  },
  {
   "cell_type": "code",
   "execution_count": 52,
   "metadata": {},
   "outputs": [
    {
     "name": "stdout",
     "output_type": "stream",
     "text": [
      "Baseline Accuracy: 0.30525\n"
     ]
    }
   ],
   "source": [
    "baseline_acc = y.value_counts(normalize = True).max()\n",
    "print('Baseline Accuracy:', baseline_acc)"
   ]
  },
  {
   "cell_type": "code",
   "execution_count": 64,
   "metadata": {},
   "outputs": [
    {
     "name": "stdout",
     "output_type": "stream",
     "text": [
      "Bag Model\n",
      "Training accuracy: 0.339375\n",
      "Validation accuracy: 0.28875\n"
     ]
    }
   ],
   "source": [
    "model_bag = make_pipeline(\n",
    "    OneHotEncoder(handle_unknown='ignore'),\n",
    "    RandomForestClassifier(\n",
    "        random_state=6, \n",
    "        n_estimators=9, \n",
    "        n_jobs=-1,\n",
    "        max_depth=19\n",
    "    )\n",
    ")               \n",
    "\n",
    "model_bag.fit(X_train, y_train);\n",
    "\n",
    "print('Bag Model')\n",
    "print('Training accuracy:', model_bag.score(X_train, y_train))\n",
    "print('Validation accuracy:', model_bag.score(X_test, y_test))"
   ]
  },
  {
   "cell_type": "code",
   "execution_count": 76,
   "metadata": {},
   "outputs": [
    {
     "name": "stdout",
     "output_type": "stream",
     "text": [
      "Boost Model\n",
      "Training accuracy: 0.3203125\n",
      "Validation accuracy: 0.2875\n"
     ]
    }
   ],
   "source": [
    "model_boost = make_pipeline(\n",
    "    OneHotEncoder(handle_unknown='ignore'),\n",
    "    XGBClassifier(\n",
    "        random_state=6, \n",
    "        n_estimators=9, \n",
    "        n_jobs=-1,\n",
    "        max_depth=3\n",
    "    )\n",
    ")\n",
    "model_boost.fit(X_train, y_train);\n",
    "\n",
    "print('Boost Model')\n",
    "print('Training accuracy:', model_boost.score(X_train, y_train))\n",
    "print('Validation accuracy:', model_boost.score(X_test, y_test))"
   ]
  },
  {
   "cell_type": "code",
   "execution_count": 93,
   "metadata": {},
   "outputs": [
    {
     "name": "stdout",
     "output_type": "stream",
     "text": [
      "Boost2 Model\n",
      "Training accuracy: 0.99125\n",
      "Validation accuracy: 0.30625\n"
     ]
    }
   ],
   "source": [
    "model_boost2 = make_pipeline(\n",
    "    OneHotEncoder(handle_unknown='ignore'),\n",
    "    GradientBoostingClassifier(\n",
    "        random_state=11, \n",
    "        n_estimators=11, \n",
    "        max_depth=88\n",
    "    )\n",
    ")\n",
    "model_boost2.fit(X_train, y_train);\n",
    "\n",
    "print('Boost2 Model')\n",
    "print('Training accuracy:', model_boost2.score(X_train, y_train))\n",
    "print('Validation accuracy:', model_boost2.score(X_test, y_test))"
   ]
  },
  {
   "cell_type": "code",
   "execution_count": 97,
   "metadata": {},
   "outputs": [],
   "source": [
    "param_grid = {\n",
    "    'gradientboostingclassifier__n_estimators': [1, 5, 11],\n",
    "    'gradientboostingclassifier__max_depth': [20, 50, 90]\n",
    "}\n",
    "\n",
    "grid_search = GridSearchCV(model_boost2, param_grid, cv=5, scoring='accuracy')\n",
    "grid_search.fit(X_train, y_train)\n",
    "\n",
    "# Print the best hyperparameters and best score\n",
    "print(\"Best Hyperparameters: \", grid_search.best_params_)\n",
    "print(\"Best Score: \", grid_search.best_score_)\n"
   ]
  }
 ],
 "metadata": {
  "kernelspec": {
   "display_name": "BandersnatchStarter",
   "language": "python",
   "name": "python3"
  },
  "language_info": {
   "codemirror_mode": {
    "name": "ipython",
    "version": 3
   },
   "file_extension": ".py",
   "mimetype": "text/x-python",
   "name": "python",
   "nbconvert_exporter": "python",
   "pygments_lexer": "ipython3",
   "version": "3.11.1"
  },
  "orig_nbformat": 4
 },
 "nbformat": 4,
 "nbformat_minor": 2
}
